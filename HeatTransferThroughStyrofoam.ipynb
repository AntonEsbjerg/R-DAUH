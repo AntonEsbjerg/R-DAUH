{
 "cells": [
  {
   "cell_type": "markdown",
   "metadata": {},
   "source": [
    "Assumptions and initial data are expressed below"
   ]
  },
  {
   "cell_type": "code",
   "execution_count": null,
   "metadata": {},
   "outputs": [
    {
     "ename": "KeyboardInterrupt",
     "evalue": "",
     "output_type": "error",
     "traceback": [
      "\u001b[1;31m---------------------------------------------------------------------------\u001b[0m",
      "\u001b[1;31mKeyboardInterrupt\u001b[0m                         Traceback (most recent call last)",
      "Cell \u001b[1;32mIn[6], line 58\u001b[0m\n\u001b[0;32m     55\u001b[0m WallThickness \u001b[38;5;241m=\u001b[39m \u001b[38;5;241m0.07\u001b[39m  \u001b[38;5;66;03m# m\u001b[39;00m\n\u001b[0;32m     56\u001b[0m HeatConductivity \u001b[38;5;241m=\u001b[39m \u001b[38;5;241m0.033\u001b[39m  \u001b[38;5;66;03m# W/m·K (approx. for styrofoam)\u001b[39;00m\n\u001b[1;32m---> 58\u001b[0m hours \u001b[38;5;241m=\u001b[39m CalculateTimeToTemperature(WaterInitTemp, WaterFinalTemp, AmbientTemp, InnerVolume, WallThickness, HeatConductivity)\n\u001b[0;32m     59\u001b[0m \u001b[38;5;28mprint\u001b[39m(\u001b[38;5;124mf\u001b[39m\u001b[38;5;124m\"\u001b[39m\u001b[38;5;124mTime (hours): \u001b[39m\u001b[38;5;132;01m{\u001b[39;00mhours\u001b[38;5;132;01m:\u001b[39;00m\u001b[38;5;124m.2f\u001b[39m\u001b[38;5;132;01m}\u001b[39;00m\u001b[38;5;124m\"\u001b[39m)\n",
      "Cell \u001b[1;32mIn[6], line 28\u001b[0m, in \u001b[0;36mCalculateTimeToTemperature\u001b[1;34m(WaterInitTemp, WaterFinalTemp, AmbientTemp, InnerVolume, WallThickness, HeatConductivity)\u001b[0m\n\u001b[0;32m     25\u001b[0m time_step \u001b[38;5;241m=\u001b[39m \u001b[38;5;241m60\u001b[39m  \u001b[38;5;66;03m# seconds\u001b[39;00m\n\u001b[0;32m     26\u001b[0m energy_removed \u001b[38;5;241m=\u001b[39m \u001b[38;5;241m0\u001b[39m\n\u001b[1;32m---> 28\u001b[0m \u001b[38;5;28;01mwhile\u001b[39;00m energy_removed \u001b[38;5;241m<\u001b[39m TotalEnergyToRemove:\n\u001b[0;32m     29\u001b[0m     \u001b[38;5;66;03m# Estimate current temperature difference (assume lumped system)\u001b[39;00m\n\u001b[0;32m     30\u001b[0m     \u001b[38;5;66;03m# Approximate current water/ice temperature linearly from energy removed\u001b[39;00m\n\u001b[0;32m     31\u001b[0m     \u001b[38;5;28;01mif\u001b[39;00m energy_removed \u001b[38;5;241m<\u001b[39m EnergyToCoolWater:\n\u001b[0;32m     32\u001b[0m         current_temp \u001b[38;5;241m=\u001b[39m WaterInitTemp \u001b[38;5;241m-\u001b[39m (energy_removed \u001b[38;5;241m/\u001b[39m EnergyToCoolWater) \u001b[38;5;241m*\u001b[39m (WaterInitTemp \u001b[38;5;241m-\u001b[39m \u001b[38;5;241m0\u001b[39m)\n",
      "\u001b[1;31mKeyboardInterrupt\u001b[0m: "
     ]
    }
   ],
   "source": [
    "import math\n",
    "\n",
    "# Constants\n",
    "SpecificHeatCapacityOfWater = 4186  # J/kg·K\n",
    "LatentHeatOfFusion = 334000         # J/kg\n",
    "SpecificHeatCapacityOfIce = 2100    # J/kg·K\n",
    "DensityOfWater = 1000               # kg/m³\n",
    "\n",
    "def CalculateTimeToTemperature(WaterInitTemp, WaterFinalTemp, AmbientTemp, InnerVolume, WallThickness, HeatConductivity):\n",
    "    # Derived properties\n",
    "    r_inner = ((3 * InnerVolume) / (4 * math.pi)) ** (1/3)\n",
    "    r_outer = r_inner + WallThickness\n",
    "    WaterMass = InnerVolume * DensityOfWater\n",
    "\n",
    "    # Energy required in each phase\n",
    "    EnergyToCoolWater = WaterMass * SpecificHeatCapacityOfWater * max(0, WaterInitTemp - 0)\n",
    "    EnergyToFreeze = WaterMass * LatentHeatOfFusion\n",
    "    EnergyToCoolIce = WaterMass * SpecificHeatCapacityOfIce * max(0, 0 - WaterFinalTemp)\n",
    "    TotalEnergyToRemove = EnergyToCoolWater + EnergyToFreeze + EnergyToCoolIce\n",
    "\n",
    "    # Time stepping\n",
    "    time = 0  # seconds\n",
    "    time_step = 60  # seconds\n",
    "    energy_removed = 0\n",
    "\n",
    "    while energy_removed < TotalEnergyToRemove:\n",
    "        # Estimate current internal temperature\n",
    "        if energy_removed < EnergyToCoolWater:\n",
    "            current_temp = WaterInitTemp - (energy_removed / EnergyToCoolWater) * (WaterInitTemp - 0)\n",
    "        elif energy_removed < (EnergyToCoolWater + EnergyToFreeze):\n",
    "            current_temp = 0  # Freezing stage\n",
    "        else:\n",
    "            frac = (energy_removed - EnergyToCoolWater - EnergyToFreeze) / EnergyToCoolIce\n",
    "            current_temp = 0 + frac * (WaterFinalTemp - 0)\n",
    "\n",
    "        # Accurate radial conduction for a spherical shell\n",
    "        Q = 4 * math.pi * HeatConductivity * (r_inner * r_outer) / (r_outer - r_inner) * (current_temp - AmbientTemp)\n",
    "\n",
    "        energy_this_step = Q * time_step\n",
    "        energy_removed += energy_this_step\n",
    "        time += time_step\n",
    "\n",
    "    return time / 3600  # Convert to hours\n",
    "\n",
    "# Example usage\n",
    "WaterInitTemp = 20  # °C\n",
    "WaterFinalTemp = -80  # °C\n",
    "AmbientTemp = -80  # °C\n",
    "InnerVolume = 0.0041  # m³ (4.1 liters)\n",
    "WallThickness = 0.07  # m\n",
    "HeatConductivity = 0.033  # W/m·K (styrofoam)\n",
    "\n",
    "hours = CalculateTimeToTemperature(WaterInitTemp, WaterFinalTemp, AmbientTemp, InnerVolume, WallThickness, HeatConductivity)\n",
    "print(f\"Time (hours): {hours:.2f}\")\n"
   ]
  }
 ],
 "metadata": {
  "kernelspec": {
   "display_name": "base",
   "language": "python",
   "name": "python3"
  },
  "language_info": {
   "codemirror_mode": {
    "name": "ipython",
    "version": 3
   },
   "file_extension": ".py",
   "mimetype": "text/x-python",
   "name": "python",
   "nbconvert_exporter": "python",
   "pygments_lexer": "ipython3",
   "version": "3.12.3"
  }
 },
 "nbformat": 4,
 "nbformat_minor": 2
}
